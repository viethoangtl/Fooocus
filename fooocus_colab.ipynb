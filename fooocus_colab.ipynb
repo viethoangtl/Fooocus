{
 "cells": [
  {
   "cell_type": "code",
   "execution_count": null,
   "metadata": {
    "id": "VjYy0F2gZIPR"
   },
   "outputs": [],
   "source": [
     "!pip install pygit2==1.15.1\n",
     "%cd /content\n",
     "!git clone https://github.com/lllyasviel/Fooocus.git\n",
     "%cd /content/Fooocus\n"
    ]
  },
  {
   "cell_type": "code",
   "execution_count": null,
   "metadata": {
    "id": "VjYy0F2gZIPR2"
   },
   "outputs": [],
   "source": [
     "!wget -O /content/Fooocus/models/checkpoints/Realistic_Vision_V6.0_B1.safetensors https://civitai.com/api/download/models/501240?type=Model&format=SafeTensor&size=pruned&fp=fp16\n",
    ]
  },
  {
   "cell_type": "code",
   "execution_count": null,
   "metadata": {
    "id": "VjYy0F2gZIPR3"
   },
   "outputs": [],
   "source": [
     "!python entry_with_update.py --share --always-high-vram\n"
    ]
  }
 ],
 "metadata": {
  "accelerator": "GPU",
  "colab": {
   "gpuType": "T4",
   "provenance": []
  },
  "kernelspec": {
   "display_name": "Python 3",
   "name": "python3"
  },
  "language_info": {
   "name": "python"
  }
 },
 "nbformat": 4,
 "nbformat_minor": 0
}
